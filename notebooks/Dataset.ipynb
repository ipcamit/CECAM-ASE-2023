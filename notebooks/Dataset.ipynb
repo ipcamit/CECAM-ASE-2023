{
 "cells": [
  {
   "cell_type": "code",
   "execution_count": 1,
   "id": "4ee1908c",
   "metadata": {},
   "outputs": [],
   "source": [
    "from kliff.dataset import Dataset"
   ]
  },
  {
   "cell_type": "code",
   "execution_count": 2,
   "id": "64ecaaa1",
   "metadata": {},
   "outputs": [
    {
     "name": "stderr",
     "output_type": "stream",
     "text": [
      "2023-03-23 08:54:44.783 | INFO     | kliff.dataset.dataset:_read:628 - 4 configurations read from /home/amit/Documents/Presentations/Demos/SciML/example/Si_training_set_4_configs\n"
     ]
    }
   ],
   "source": [
    "ds = Dataset(\"Si_training_set_4_configs\")"
   ]
  },
  {
   "cell_type": "code",
   "execution_count": 3,
   "id": "c30a9969",
   "metadata": {},
   "outputs": [
    {
     "data": {
      "text/plain": [
       "64"
      ]
     },
     "execution_count": 3,
     "metadata": {},
     "output_type": "execute_result"
    }
   ],
   "source": [
    "ds[0].get_num_atoms()"
   ]
  },
  {
   "cell_type": "markdown",
   "id": "3c78f2c0",
   "metadata": {},
   "source": [
    "### Torch compatible graph"
   ]
  },
  {
   "cell_type": "code",
   "execution_count": 4,
   "id": "a840df86",
   "metadata": {},
   "outputs": [],
   "source": [
    "from kliff.ml.graphs import KIMTorchGraphGenerator\n",
    "from torch.utils.data import DataLoader"
   ]
  },
  {
   "cell_type": "code",
   "execution_count": 5,
   "id": "37d681a1",
   "metadata": {},
   "outputs": [],
   "source": [
    "kgg = KIMTorchGraphGenerator(species=[\"Si\"], cutoff=3.0, n_layers=3, as_torch_geometric_data=True)"
   ]
  },
  {
   "cell_type": "code",
   "execution_count": 6,
   "id": "f1f04eb6",
   "metadata": {},
   "outputs": [
    {
     "data": {
      "text/plain": [
       "KIMTorchGraph(energy=-277.0284423828125, forces=[64, 3], n_layers=3, coords=[1165, 3], images=[1165], species=[1165], z=[1165], contributions=[1165], num_nodes=1165, edge_index0=[2, 340], edge_index1=[2, 640], edge_index2=[2, 1096])"
      ]
     },
     "execution_count": 6,
     "metadata": {},
     "output_type": "execute_result"
    }
   ],
   "source": [
    "kgg.generate_graph(ds[0])"
   ]
  },
  {
   "cell_type": "markdown",
   "id": "c86a1272",
   "metadata": {},
   "source": [
    "### Torch dataloaders"
   ]
  },
  {
   "cell_type": "code",
   "execution_count": 7,
   "id": "8e75a5f6",
   "metadata": {},
   "outputs": [
    {
     "data": {
      "text/plain": [
       "[KIMTorchGraph(energy=-277.0284423828125, forces=[64, 3], n_layers=3, coords=[1165, 3], images=[1165], species=[1165], z=[1165], contributions=[1165], num_nodes=1165, edge_index0=[2, 340], edge_index1=[2, 640], edge_index2=[2, 1096]),\n",
       " KIMTorchGraph(energy=-276.9875183105469, forces=[64, 3], n_layers=3, coords=[1165, 3], images=[1165], species=[1165], z=[1165], contributions=[1165], num_nodes=1165, edge_index0=[2, 340], edge_index1=[2, 648], edge_index2=[2, 1108]),\n",
       " KIMTorchGraph(energy=-277.0018310546875, forces=[64, 3], n_layers=3, coords=[1165, 3], images=[1165], species=[1165], z=[1165], contributions=[1165], num_nodes=1165, edge_index0=[2, 342], edge_index1=[2, 638], edge_index2=[2, 1094])]"
      ]
     },
     "execution_count": 7,
     "metadata": {},
     "output_type": "execute_result"
    }
   ],
   "source": [
    "dl = DataLoader(ds,batch_size=3,collate_fn=kgg.collate_fn);next(iter(dl))"
   ]
  },
  {
   "cell_type": "markdown",
   "id": "12f5cf14",
   "metadata": {},
   "source": [
    "### Pytorch Geometric dataloaders"
   ]
  },
  {
   "cell_type": "code",
   "execution_count": 8,
   "id": "84074268",
   "metadata": {},
   "outputs": [],
   "source": [
    "import torch_geometric as pyg\n",
    "import torch"
   ]
  },
  {
   "cell_type": "code",
   "execution_count": 9,
   "id": "89befe21",
   "metadata": {},
   "outputs": [],
   "source": [
    "# simple convert\n",
    "class SimpleDataset(pyg.data.InMemoryDataset):\n",
    "    def __init__(self,transform=None, pre_transform=None,file=\"./si4.pt\"):\n",
    "        super().__init__(None, transform, pre_transform)\n",
    "        self.data,self.slices = torch.load(file)\n",
    "pygds = SimpleDataset()"
   ]
  },
  {
   "cell_type": "code",
   "execution_count": 10,
   "id": "d773435f",
   "metadata": {},
   "outputs": [],
   "source": [
    "pygdl = pyg.loader.DataLoader(pygds, batch_size=3)"
   ]
  },
  {
   "cell_type": "code",
   "execution_count": 12,
   "id": "b0142850",
   "metadata": {},
   "outputs": [],
   "source": [
    "batched_graph = next(iter(pygdl))"
   ]
  },
  {
   "cell_type": "code",
   "execution_count": 13,
   "id": "41fb661b",
   "metadata": {},
   "outputs": [
    {
     "data": {
      "text/plain": [
       "KIMTorchGraphBatch(energy=[3], forces=[192, 3], n_layers=[3], coords=[3495, 3], images=[3495], species=[3495], contributions=[3495], edge_index0=[2, 1022], edge_index1=[2, 1926], edge_index2=[2, 3298], num_nodes=3495, batch=[3495], ptr=[4])"
      ]
     },
     "execution_count": 13,
     "metadata": {},
     "output_type": "execute_result"
    }
   ],
   "source": [
    "batched_graph"
   ]
  },
  {
   "cell_type": "code",
   "execution_count": 14,
   "id": "a41651df",
   "metadata": {},
   "outputs": [
    {
     "data": {
      "text/plain": [
       "tensor([-277.0284, -276.9875, -277.0018])"
      ]
     },
     "execution_count": 14,
     "metadata": {},
     "output_type": "execute_result"
    }
   ],
   "source": [
    "batched_graph.energy"
   ]
  },
  {
   "cell_type": "code",
   "execution_count": null,
   "id": "7798962a",
   "metadata": {},
   "outputs": [],
   "source": []
  }
 ],
 "metadata": {
  "kernelspec": {
   "display_name": "Python 3 (ipykernel)",
   "language": "python",
   "name": "python3"
  },
  "language_info": {
   "codemirror_mode": {
    "name": "ipython",
    "version": 3
   },
   "file_extension": ".py",
   "mimetype": "text/x-python",
   "name": "python",
   "nbconvert_exporter": "python",
   "pygments_lexer": "ipython3",
   "version": "3.9.15"
  }
 },
 "nbformat": 4,
 "nbformat_minor": 5
}
