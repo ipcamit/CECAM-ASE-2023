{
 "cells": [
  {
   "cell_type": "code",
   "execution_count": 1,
   "id": "d6925b89",
   "metadata": {},
   "outputs": [
    {
     "name": "stderr",
     "output_type": "stream",
     "text": [
      "/usr/local/lib/python3.8/dist-packages/tqdm/auto.py:21: TqdmWarning: IProgress not found. Please update jupyter and ipywidgets. See https://ipywidgets.readthedocs.io/en/stable/user_install.html\n",
      "  from .autonotebook import tqdm as notebook_tqdm\n"
     ]
    }
   ],
   "source": [
    "from kliff.models import KIMModel\n",
    "from kliff.dataset import Dataset\n",
    "from kliff.ml.opt import OptimizerScipy\n",
    "from scipy.optimize import minimize"
   ]
  },
  {
   "cell_type": "code",
   "execution_count": 2,
   "id": "7edb60b1",
   "metadata": {},
   "outputs": [
    {
     "name": "stderr",
     "output_type": "stream",
     "text": [
      "2023-04-06 15:57:30.394 | INFO     | kliff.dataset.dataset:_read:687 - 4 configurations read from /home/openkim/MACH2023/data/Si_training_set_4_configs\n"
     ]
    }
   ],
   "source": [
    "# dataset = Dataset(colabfit_database=\"colabfit_database\", colabfit_dataset=\"jax_si\")\n",
    "dataset = Dataset(\"/home/openkim/MACH2023/data/Si_training_set_4_configs\")"
   ]
  },
  {
   "cell_type": "markdown",
   "id": "27124c78",
   "metadata": {},
   "source": [
    "### Install the require model/model driver."
   ]
  },
  {
   "cell_type": "code",
   "execution_count": 3,
   "id": "a78e4bd3",
   "metadata": {},
   "outputs": [
    {
     "name": "stdout",
     "output_type": "stream",
     "text": [
      "Item 'SW_StillingerWeber_1985_Si__MO_405512056662_005' already installed in collection 'user'.\r\n",
      "\r\n",
      "Success!\r\n"
     ]
    }
   ],
   "source": [
    "!kim-api-collections-management install user \"SW_StillingerWeber_1985_Si__MO_405512056662_005\""
   ]
  },
  {
   "cell_type": "markdown",
   "id": "16b03638",
   "metadata": {},
   "source": [
    "### Use ASE KIMModel class for generating a Python based KIM Model"
   ]
  },
  {
   "cell_type": "code",
   "execution_count": 4,
   "id": "10db6a09",
   "metadata": {},
   "outputs": [],
   "source": [
    "model = KIMModel(model_name=\"SW_StillingerWeber_1985_Si__MO_405512056662_005\")"
   ]
  },
  {
   "cell_type": "markdown",
   "id": "78ce511a",
   "metadata": {},
   "source": [
    "### Set parameters for optimization"
   ]
  },
  {
   "cell_type": "code",
   "execution_count": 5,
   "id": "3859cda1",
   "metadata": {},
   "outputs": [],
   "source": [
    "model.set_opt_params(A=[[10.0]], B=[[0.5]])"
   ]
  },
  {
   "cell_type": "code",
   "execution_count": 6,
   "id": "2614f1a3",
   "metadata": {},
   "outputs": [
    {
     "data": {
      "text/plain": [
       "{'energy': -200.55372425795346, 'forces': None, 'stress': None}"
      ]
     },
     "execution_count": 6,
     "metadata": {},
     "output_type": "execute_result"
    }
   ],
   "source": [
    "model(dataset[0],compute_forces=False)"
   ]
  },
  {
   "cell_type": "markdown",
   "id": "92d8daf5",
   "metadata": {},
   "source": [
    "### Explicit Optimization"
   ]
  },
  {
   "cell_type": "code",
   "execution_count": 7,
   "id": "caa7b93a",
   "metadata": {},
   "outputs": [],
   "source": [
    "param_to_optimize = model.parameters()\n",
    "def loss_fn(params):\n",
    "    for new_param, old_param in zip(params, param_to_optimize):\n",
    "        model.copy_parameters(old_param, new_param)\n",
    "    loss = 0\n",
    "    for config in dataset:\n",
    "        E = model(config)[\"energy\"]\n",
    "        loss += (config.energy - E)**2\n",
    "    return loss"
   ]
  },
  {
   "cell_type": "code",
   "execution_count": 8,
   "id": "a428e13e",
   "metadata": {},
   "outputs": [],
   "source": [
    "x0 = [10.0,5.5]\n",
    "result = minimize(loss_fn, x0, method=\"L-BFGS-B\", tol=1e-12, options={\"maxiter\":100})"
   ]
  },
  {
   "cell_type": "code",
   "execution_count": 9,
   "id": "b2ec5a5b",
   "metadata": {},
   "outputs": [
    {
     "data": {
      "text/plain": [
       "array([15.28515917,  0.60219947])"
      ]
     },
     "execution_count": 9,
     "metadata": {},
     "output_type": "execute_result"
    }
   ],
   "source": [
    "result.x"
   ]
  },
  {
   "cell_type": "markdown",
   "id": "ce6d98b5",
   "metadata": {},
   "source": [
    "### Implicit Optimization"
   ]
  },
  {
   "cell_type": "code",
   "execution_count": 10,
   "id": "c5f02212",
   "metadata": {},
   "outputs": [
    {
     "name": "stderr",
     "output_type": "stream",
     "text": [
      "2023-04-06 15:57:43.160 | INFO     | kliff.ml.opt:minimize:157 - Starting with method L-BFGS-B\n"
     ]
    }
   ],
   "source": [
    "opt = OptimizerScipy(model, param_to_optimize, dataset, optimizer=\"L-BFGS-B\",target_property=[\"energy\"],)\n",
    "result_im = opt.minimize()"
   ]
  },
  {
   "cell_type": "code",
   "execution_count": 11,
   "id": "7cd3e46e",
   "metadata": {},
   "outputs": [
    {
     "data": {
      "text/plain": [
       "array([15.28515889,  0.60219945])"
      ]
     },
     "execution_count": 11,
     "metadata": {},
     "output_type": "execute_result"
    }
   ],
   "source": [
    "result_im.x"
   ]
  },
  {
   "cell_type": "code",
   "execution_count": 13,
   "id": "a49c70e0",
   "metadata": {},
   "outputs": [
    {
     "name": "stderr",
     "output_type": "stream",
     "text": [
      "2023-04-06 15:58:14.891 | INFO     | kliff.models.kim:write_kim_model:695 - KLIFF trained model write to `/home/openkim/cwd/SW_StillingerWeber_1985_Si__MO_405512056662_005_kliff_trained`\n"
     ]
    }
   ],
   "source": [
    "model.write_kim_model()"
   ]
  },
  {
   "cell_type": "code",
   "execution_count": null,
   "id": "7f212b30",
   "metadata": {},
   "outputs": [],
   "source": []
  }
 ],
 "metadata": {
  "kernelspec": {
   "display_name": "Python 3 (ipykernel)",
   "language": "python",
   "name": "python3"
  },
  "language_info": {
   "codemirror_mode": {
    "name": "ipython",
    "version": 3
   },
   "file_extension": ".py",
   "mimetype": "text/x-python",
   "name": "python",
   "nbconvert_exporter": "python",
   "pygments_lexer": "ipython3",
   "version": "3.8.10"
  }
 },
 "nbformat": 4,
 "nbformat_minor": 5
}
