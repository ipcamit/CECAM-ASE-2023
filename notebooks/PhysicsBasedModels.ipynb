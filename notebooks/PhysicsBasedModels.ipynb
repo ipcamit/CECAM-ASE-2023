{
 "cells": [
  {
   "cell_type": "code",
   "execution_count": 1,
   "id": "d6925b89",
   "metadata": {},
   "outputs": [],
   "source": [
    "from kliff.models import KIMModel\n",
    "from kliff.dataset import Dataset\n",
    "from kliff.ml.opt import OptimizerScipy\n",
    "from scipy.optimize import minimize"
   ]
  },
  {
   "cell_type": "code",
   "execution_count": 20,
   "id": "7edb60b1",
   "metadata": {},
   "outputs": [
    {
     "name": "stderr",
     "output_type": "stream",
     "text": [
      "2023-03-23 11:14:25.141 | INFO     | kliff.dataset.dataset:_read_colabfit:672 - 3716 configurations read from jax_si\n",
      "2023-03-23 11:14:25.147 | INFO     | kliff.dataset.dataset:_read:628 - 4 configurations read from /home/amit/Documents/Presentations/Demos/SciML/example\n"
     ]
    }
   ],
   "source": [
    "dataset = Dataset(colabfit_database=\"colabfit_database\", colabfit_dataset=\"jax_si\")\n",
    "dataset = Dataset(\"./\")"
   ]
  },
  {
   "cell_type": "code",
   "execution_count": 21,
   "id": "a78e4bd3",
   "metadata": {},
   "outputs": [
    {
     "name": "stdout",
     "output_type": "stream",
     "text": [
      "Item 'SW_StillingerWeber_1985_Si__MO_405512056662_005' already installed in collection 'user'.\r\n",
      "\r\n",
      "Success!\r\n"
     ]
    }
   ],
   "source": [
    "!kim-api-collections-management install user \"SW_StillingerWeber_1985_Si__MO_405512056662_005\""
   ]
  },
  {
   "cell_type": "code",
   "execution_count": 22,
   "id": "10db6a09",
   "metadata": {},
   "outputs": [],
   "source": [
    "model = KIMModel(model_name=\"SW_StillingerWeber_1985_Si__MO_405512056662_005\")"
   ]
  },
  {
   "cell_type": "code",
   "execution_count": 5,
   "id": "3859cda1",
   "metadata": {},
   "outputs": [],
   "source": [
    "model.set_opt_params(A=[[10.0]], B=[[0.5]])"
   ]
  },
  {
   "cell_type": "code",
   "execution_count": 25,
   "id": "2614f1a3",
   "metadata": {},
   "outputs": [
    {
     "data": {
      "text/plain": [
       "{'energy': -277.0156532289488, 'forces': None, 'stress': None}"
      ]
     },
     "execution_count": 25,
     "metadata": {},
     "output_type": "execute_result"
    }
   ],
   "source": [
    "model(dataset[0],compute_forces=False)"
   ]
  },
  {
   "cell_type": "markdown",
   "id": "92d8daf5",
   "metadata": {},
   "source": [
    "### Explicit Optimization"
   ]
  },
  {
   "cell_type": "code",
   "execution_count": 26,
   "id": "caa7b93a",
   "metadata": {},
   "outputs": [],
   "source": [
    "param_to_optimize = model.parameters()\n",
    "def loss_fn(params):\n",
    "    for new_param, old_param in zip(params, param_to_optimize):\n",
    "        model.copy_parameters(old_param, new_param)\n",
    "    loss = 0\n",
    "    for config in dataset:\n",
    "        E = model(config)[\"energy\"]\n",
    "        loss += (config.energy - E)**2\n",
    "    return loss"
   ]
  },
  {
   "cell_type": "code",
   "execution_count": 29,
   "id": "a428e13e",
   "metadata": {},
   "outputs": [],
   "source": [
    "x0 = [10.0,5.5]\n",
    "result = minimize(loss_fn, x0, method=\"L-BFGS-B\", tol=1e-12, options={\"maxiter\":100})"
   ]
  },
  {
   "cell_type": "code",
   "execution_count": 30,
   "id": "b2ec5a5b",
   "metadata": {},
   "outputs": [
    {
     "data": {
      "text/plain": [
       "array([10. ,  5.5])"
      ]
     },
     "execution_count": 30,
     "metadata": {},
     "output_type": "execute_result"
    }
   ],
   "source": [
    "result.x"
   ]
  },
  {
   "cell_type": "markdown",
   "id": "ce6d98b5",
   "metadata": {},
   "source": [
    "### Implicit Optimization"
   ]
  },
  {
   "cell_type": "code",
   "execution_count": 10,
   "id": "c5f02212",
   "metadata": {},
   "outputs": [
    {
     "name": "stderr",
     "output_type": "stream",
     "text": [
      "2023-03-23 08:57:49.907 | INFO     | kliff.ml.opt:minimize:120 - Starting with method L-BFGS-B\n"
     ]
    }
   ],
   "source": [
    "opt = OptimizerScipy(model, param_to_optimize, dataset, optimizer=\"L-BFGS-B\",target_property=[\"energy\"],)\n",
    "result_im = opt.minimize()"
   ]
  },
  {
   "cell_type": "code",
   "execution_count": 13,
   "id": "7cd3e46e",
   "metadata": {},
   "outputs": [
    {
     "data": {
      "text/plain": [
       "array([15.28515794,  0.60219939])"
      ]
     },
     "execution_count": 13,
     "metadata": {},
     "output_type": "execute_result"
    }
   ],
   "source": [
    "result_im.x"
   ]
  },
  {
   "cell_type": "code",
   "execution_count": null,
   "id": "a49c70e0",
   "metadata": {},
   "outputs": [],
   "source": []
  }
 ],
 "metadata": {
  "kernelspec": {
   "display_name": "Python 3 (ipykernel)",
   "language": "python",
   "name": "python3"
  },
  "language_info": {
   "codemirror_mode": {
    "name": "ipython",
    "version": 3
   },
   "file_extension": ".py",
   "mimetype": "text/x-python",
   "name": "python",
   "nbconvert_exporter": "python",
   "pygments_lexer": "ipython3",
   "version": "3.9.15"
  }
 },
 "nbformat": 4,
 "nbformat_minor": 5
}
