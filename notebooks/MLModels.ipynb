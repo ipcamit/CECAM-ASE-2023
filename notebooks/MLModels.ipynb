{
 "cells": [
  {
   "cell_type": "code",
   "execution_count": 21,
   "id": "a946be4e",
   "metadata": {},
   "outputs": [],
   "source": [
    "from kliff.dataset import Dataset\n",
    "from kliff.ml.opt import OptimizerTorch\n",
    "from kliff.ml.libdescriptor import Descriptor\n",
    "from kliff.ml.training_wheels import TrainingWheels\n",
    "from kliff.ml.libdescriptor.descriptor import get_default_bispectrum\n",
    "import numpy as np\n",
    "import torch\n",
    "from torch.nn import Sequential, Linear, ReLU, Tanh\n",
    "torch.set_default_tensor_type(torch.DoubleTensor)"
   ]
  },
  {
   "cell_type": "code",
   "execution_count": 22,
   "id": "b3867e03",
   "metadata": {},
   "outputs": [
    {
     "name": "stderr",
     "output_type": "stream",
     "text": [
      "2023-03-23 11:16:55.889 | INFO     | kliff.dataset.dataset:_read:628 - 4 configurations read from /home/amit/Documents/Presentations/Demos/SciML/example\n"
     ]
    }
   ],
   "source": [
    "dataset = Dataset(\"./\")"
   ]
  },
  {
   "cell_type": "code",
   "execution_count": 23,
   "id": "2fe59744",
   "metadata": {},
   "outputs": [
    {
     "data": {
      "text/plain": [
       "OrderedDict([('jmax', 4),\n",
       "             ('rfac0', 0.99363),\n",
       "             ('diagonalstyle', 3),\n",
       "             ('rmin0', 0),\n",
       "             ('switch_flag', 1),\n",
       "             ('bzero_flag', 0),\n",
       "             ('use_shared_array', False),\n",
       "             ('weights', None)])"
      ]
     },
     "execution_count": 23,
     "metadata": {},
     "output_type": "execute_result"
    }
   ],
   "source": [
    "hyperparameters = get_default_bispectrum()\n",
    "hyperparameters"
   ]
  },
  {
   "cell_type": "code",
   "execution_count": 24,
   "id": "b0bdd3b2",
   "metadata": {},
   "outputs": [],
   "source": [
    "desc = Descriptor(species=[\"Si\"], cutoff=3.77, descriptor=\"Bispectrum\",hyperparameters=hyperparameters)\n",
    "model = Sequential(Linear(desc.width, 10), ReLU(), Linear(10, 10), Tanh(), Linear(10, 1))"
   ]
  },
  {
   "cell_type": "code",
   "execution_count": 26,
   "id": "e45f4cfa",
   "metadata": {},
   "outputs": [
    {
     "name": "stdout",
     "output_type": "stream",
     "text": [
      "[[11.21279788  1.32144451  0.71864351 ...  6.08358475  9.12367976\n",
      "   4.64763422]\n",
      " [11.71480386  1.38341366  0.71840706 ...  5.86675604  9.25307807\n",
      "   4.03739021]\n",
      " [11.56239684  1.36223379  0.71805468 ...  5.91457133  9.18903281\n",
      "   4.21462028]\n",
      " ...\n",
      " [11.70718464  1.38402086  0.7198934  ...  5.89704364  9.26167241\n",
      "   4.08735836]\n",
      " [11.44231973  1.35056181  0.71991062 ...  6.00569278  9.17827144\n",
      "   4.41222088]\n",
      " [11.45862475  1.35355995  0.71916522 ...  5.99261215  9.19334183\n",
      "   4.37218574]]\n"
     ]
    }
   ],
   "source": [
    "print(desc.forward(dataset[0]))"
   ]
  },
  {
   "cell_type": "markdown",
   "id": "1a312f73",
   "metadata": {},
   "source": [
    "### Compute energy and forces"
   ]
  },
  {
   "cell_type": "code",
   "execution_count": 27,
   "id": "5e2a1213",
   "metadata": {
    "scrolled": true
   },
   "outputs": [
    {
     "name": "stdout",
     "output_type": "stream",
     "text": [
      "[[ 0.01194377 -0.02445296  0.0428753 ]\n",
      " [-0.0161087   0.0510593  -0.0248493 ]\n",
      " [ 0.04212561  0.00338546 -0.06085004]\n",
      " [-0.0186182   0.02514027 -0.02311917]\n",
      " [ 0.05752531  0.02175386  0.00469831]\n",
      " [ 0.00477205 -0.02662726 -0.01296752]\n",
      " [-0.00514395  0.03771436 -0.03107111]\n",
      " [-0.03357846  0.01244308 -0.02685095]\n",
      " [-0.08091077  0.06516367  0.02695972]\n",
      " [-0.00395366 -0.00677185 -0.0199847 ]\n",
      " [ 0.01001026 -0.00648298 -0.04340275]\n",
      " [ 0.02339664  0.01723912  0.01371598]\n",
      " [-0.02954064 -0.01868695 -0.05451479]\n",
      " [ 0.03268467  0.05953101  0.04056934]\n",
      " [ 0.00071592 -0.01955118  0.02578998]\n",
      " [-0.01351203  0.03445555  0.03927001]\n",
      " [-0.00353726  0.01427137 -0.00057532]\n",
      " [-0.02892285  0.0285444  -0.0242593 ]\n",
      " [ 0.05623262  0.01303339 -0.04340668]\n",
      " [ 0.0093282   0.04327132  0.06035917]\n",
      " [-0.02977223  0.02348511  0.04300479]\n",
      " [ 0.01078711 -0.04395722  0.00103963]\n",
      " [ 0.01646246 -0.04029043  0.00950209]\n",
      " [-0.01252855  0.01645009 -0.04571689]\n",
      " [-0.0504034   0.02324288  0.01370309]\n",
      " [-0.0501157  -0.06496425 -0.0442741 ]\n",
      " [-0.03174796 -0.01808061  0.00978398]\n",
      " [ 0.05142093 -0.00503035  0.02332931]\n",
      " [-0.01024337  0.00295064 -0.01032317]\n",
      " [ 0.04002657  0.01124616  0.01572051]\n",
      " [-0.05574096 -0.02143797 -0.01475163]\n",
      " [-0.05743027 -0.03648723 -0.0233512 ]\n",
      " [ 0.01630805 -0.02628244  0.06640563]\n",
      " [ 0.01244989 -0.01716895 -0.00783208]\n",
      " [ 0.00802877  0.05391809 -0.00527638]\n",
      " [-0.02085114 -0.02450558  0.00921065]\n",
      " [ 0.05151983  0.01135288 -0.00102615]\n",
      " [-0.01331179 -0.00277828 -0.01969214]\n",
      " [-0.00814907 -0.0301869   0.02167246]\n",
      " [-0.03861378 -0.01312442  0.01664093]\n",
      " [-0.0131294  -0.01576145  0.03880531]\n",
      " [-0.05225017  0.067769    0.00393298]\n",
      " [ 0.07935273 -0.08810182  0.0054419 ]\n",
      " [-0.01256212 -0.04326118 -0.0348687 ]\n",
      " [ 0.05027511 -0.00256855  0.0159016 ]\n",
      " [ 0.01855705 -0.02696499 -0.04129549]\n",
      " [-0.00381749  0.01906988  0.00925797]\n",
      " [-0.05563968  0.00389718 -0.00994217]\n",
      " [-0.04294567 -0.03501099  0.00490144]\n",
      " [-0.01119186 -0.05370313 -0.06648953]\n",
      " [ 0.02905144  0.0688392  -0.03242078]\n",
      " [ 0.01768594 -0.01178943  0.0706511 ]\n",
      " [ 0.02320567  0.09682452  0.00917798]\n",
      " [-0.01170573  0.02607738  0.05048986]\n",
      " [ 0.07682287 -0.01108678 -0.02332783]\n",
      " [ 0.03227596  0.00360195 -0.01577477]\n",
      " [ 0.01316403  0.00206162 -0.036701  ]\n",
      " [ 0.04694494 -0.06174795  0.03047311]\n",
      " [-0.01312553  0.00695338  0.06307023]\n",
      " [ 0.01513963 -0.01023467 -0.02173019]\n",
      " [ 0.03034319  0.00075634 -0.02365021]\n",
      " [-0.0361277  -0.005393    0.02415362]\n",
      " [ 0.00797263 -0.01645713 -0.05340412]\n",
      " [-0.03129976 -0.03655355  0.08719215]]\n"
     ]
    }
   ],
   "source": [
    "# get descriptor\n",
    "representation = torch.tensor(desc.forward(dataset[0]))\n",
    "representation.requires_grad_(True)\n",
    "\n",
    "# energy\n",
    "atomwise_energy = model(representation)\n",
    "total_energy = atomwise_energy.sum()\n",
    "\n",
    "# dE/d desc\n",
    "total_energy.backward()\n",
    "dE_ddesc = representation.grad.detach().numpy()\n",
    "\n",
    "# dE/dr = dE/d desc x J_bispectrum \n",
    "forces = desc.backward(dataset[0], dE_ddesc)\n",
    "print(forces)"
   ]
  },
  {
   "cell_type": "markdown",
   "id": "075785a4",
   "metadata": {},
   "source": [
    "### Using TrainingWheels"
   ]
  },
  {
   "cell_type": "code",
   "execution_count": 28,
   "id": "3c375279",
   "metadata": {},
   "outputs": [],
   "source": [
    "model_tw = TrainingWheels.init_descriptor(model=model, cutoff=3.77, descriptor_kind=\"Bispectrum\", species=[\"Si\"], \n",
    "                               hyperparams=hyperparameters, model_returns_forces=False)"
   ]
  },
  {
   "cell_type": "code",
   "execution_count": 29,
   "id": "2ec3d681",
   "metadata": {
    "scrolled": true
   },
   "outputs": [
    {
     "data": {
      "text/plain": [
       "{'energy': tensor(-67.1918, grad_fn=<SumBackward0>),\n",
       " 'forces': tensor([[-0.0119,  0.0245, -0.0429],\n",
       "         [ 0.0161, -0.0511,  0.0248],\n",
       "         [-0.0421, -0.0034,  0.0609],\n",
       "         [ 0.0186, -0.0251,  0.0231],\n",
       "         [-0.0575, -0.0218, -0.0047],\n",
       "         [-0.0048,  0.0266,  0.0130],\n",
       "         [ 0.0051, -0.0377,  0.0311],\n",
       "         [ 0.0336, -0.0124,  0.0269],\n",
       "         [ 0.0809, -0.0652, -0.0270],\n",
       "         [ 0.0040,  0.0068,  0.0200],\n",
       "         [-0.0100,  0.0065,  0.0434],\n",
       "         [-0.0234, -0.0172, -0.0137],\n",
       "         [ 0.0295,  0.0187,  0.0545],\n",
       "         [-0.0327, -0.0595, -0.0406],\n",
       "         [-0.0007,  0.0196, -0.0258],\n",
       "         [ 0.0135, -0.0345, -0.0393],\n",
       "         [ 0.0035, -0.0143,  0.0006],\n",
       "         [ 0.0289, -0.0285,  0.0243],\n",
       "         [-0.0562, -0.0130,  0.0434],\n",
       "         [-0.0093, -0.0433, -0.0604],\n",
       "         [ 0.0298, -0.0235, -0.0430],\n",
       "         [-0.0108,  0.0440, -0.0010],\n",
       "         [-0.0165,  0.0403, -0.0095],\n",
       "         [ 0.0125, -0.0165,  0.0457],\n",
       "         [ 0.0504, -0.0232, -0.0137],\n",
       "         [ 0.0501,  0.0650,  0.0443],\n",
       "         [ 0.0317,  0.0181, -0.0098],\n",
       "         [-0.0514,  0.0050, -0.0233],\n",
       "         [ 0.0102, -0.0030,  0.0103],\n",
       "         [-0.0400, -0.0112, -0.0157],\n",
       "         [ 0.0557,  0.0214,  0.0148],\n",
       "         [ 0.0574,  0.0365,  0.0234],\n",
       "         [-0.0163,  0.0263, -0.0664],\n",
       "         [-0.0124,  0.0172,  0.0078],\n",
       "         [-0.0080, -0.0539,  0.0053],\n",
       "         [ 0.0209,  0.0245, -0.0092],\n",
       "         [-0.0515, -0.0114,  0.0010],\n",
       "         [ 0.0133,  0.0028,  0.0197],\n",
       "         [ 0.0081,  0.0302, -0.0217],\n",
       "         [ 0.0386,  0.0131, -0.0166],\n",
       "         [ 0.0131,  0.0158, -0.0388],\n",
       "         [ 0.0523, -0.0678, -0.0039],\n",
       "         [-0.0794,  0.0881, -0.0054],\n",
       "         [ 0.0126,  0.0433,  0.0349],\n",
       "         [-0.0503,  0.0026, -0.0159],\n",
       "         [-0.0186,  0.0270,  0.0413],\n",
       "         [ 0.0038, -0.0191, -0.0093],\n",
       "         [ 0.0556, -0.0039,  0.0099],\n",
       "         [ 0.0429,  0.0350, -0.0049],\n",
       "         [ 0.0112,  0.0537,  0.0665],\n",
       "         [-0.0291, -0.0688,  0.0324],\n",
       "         [-0.0177,  0.0118, -0.0707],\n",
       "         [-0.0232, -0.0968, -0.0092],\n",
       "         [ 0.0117, -0.0261, -0.0505],\n",
       "         [-0.0768,  0.0111,  0.0233],\n",
       "         [-0.0323, -0.0036,  0.0158],\n",
       "         [-0.0132, -0.0021,  0.0367],\n",
       "         [-0.0469,  0.0617, -0.0305],\n",
       "         [ 0.0131, -0.0070, -0.0631],\n",
       "         [-0.0151,  0.0102,  0.0217],\n",
       "         [-0.0303, -0.0008,  0.0237],\n",
       "         [ 0.0361,  0.0054, -0.0242],\n",
       "         [-0.0080,  0.0165,  0.0534],\n",
       "         [ 0.0313,  0.0366, -0.0872]], grad_fn=<NegBackward0>),\n",
       " 'stress': None}"
      ]
     },
     "execution_count": 29,
     "metadata": {},
     "output_type": "execute_result"
    }
   ],
   "source": [
    "model_tw(dataset[0])"
   ]
  },
  {
   "cell_type": "markdown",
   "id": "aa3ec8ba",
   "metadata": {},
   "source": [
    "### Train model"
   ]
  },
  {
   "cell_type": "code",
   "execution_count": 30,
   "id": "9b8d31c4",
   "metadata": {},
   "outputs": [],
   "source": [
    "optimizer = torch.optim.Adam(model.parameters(),lr=0.01)\n",
    "opt = OptimizerTorch(model_tw, dataset, optimizer=optimizer, epochs=5)"
   ]
  },
  {
   "cell_type": "code",
   "execution_count": 31,
   "id": "d58b2fb0",
   "metadata": {},
   "outputs": [
    {
     "name": "stderr",
     "output_type": "stream",
     "text": [
      "2023-03-23 11:19:30.417 | INFO     | kliff.ml.opt:minimize:234 - Starting with method Adam (\n",
      "Parameter Group 0\n",
      "    amsgrad: False\n",
      "    betas: (0.9, 0.999)\n",
      "    capturable: False\n",
      "    eps: 1e-08\n",
      "    foreach: None\n",
      "    lr: 0.01\n",
      "    maximize: False\n",
      "    weight_decay: 0\n",
      ")\n"
     ]
    }
   ],
   "source": [
    "_ = opt.minimize()"
   ]
  },
  {
   "cell_type": "code",
   "execution_count": 72,
   "id": "bd59c1a4",
   "metadata": {},
   "outputs": [],
   "source": [
    "model_tw.save_kim_model(\"ExampleModel\")"
   ]
  },
  {
   "cell_type": "code",
   "execution_count": null,
   "id": "99d212ca",
   "metadata": {},
   "outputs": [],
   "source": []
  }
 ],
 "metadata": {
  "kernelspec": {
   "display_name": "Python 3 (ipykernel)",
   "language": "python",
   "name": "python3"
  },
  "language_info": {
   "codemirror_mode": {
    "name": "ipython",
    "version": 3
   },
   "file_extension": ".py",
   "mimetype": "text/x-python",
   "name": "python",
   "nbconvert_exporter": "python",
   "pygments_lexer": "ipython3",
   "version": "3.9.15"
  }
 },
 "nbformat": 4,
 "nbformat_minor": 5
}
