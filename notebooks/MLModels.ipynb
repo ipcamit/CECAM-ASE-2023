{
 "cells": [
  {
   "cell_type": "code",
   "execution_count": 1,
   "id": "a946be4e",
   "metadata": {},
   "outputs": [
    {
     "name": "stderr",
     "output_type": "stream",
     "text": [
      "/usr/local/lib/python3.8/dist-packages/tqdm/auto.py:21: TqdmWarning: IProgress not found. Please update jupyter and ipywidgets. See https://ipywidgets.readthedocs.io/en/stable/user_install.html\n",
      "  from .autonotebook import tqdm as notebook_tqdm\n"
     ]
    }
   ],
   "source": [
    "from kliff.dataset import Dataset\n",
    "from kliff.ml.opt import OptimizerTorch\n",
    "from kliff.ml import Descriptor\n",
    "from kliff.ml import TrainingWheels\n",
    "from kliff.ml.descriptors import get_set51, get_default_bispectrum\n",
    "import numpy as np\n",
    "import torch\n",
    "from torch.nn import Sequential, Linear, ReLU, Tanh\n",
    "torch.set_default_tensor_type(torch.DoubleTensor)"
   ]
  },
  {
   "cell_type": "code",
   "execution_count": 2,
   "id": "b3867e03",
   "metadata": {},
   "outputs": [
    {
     "name": "stderr",
     "output_type": "stream",
     "text": [
      "2023-04-06 14:44:05.830 | INFO     | kliff.dataset.dataset:_read:687 - 4 configurations read from /home/openkim/MACH2023/data/Si_training_set_4_configs\n"
     ]
    }
   ],
   "source": [
    "dataset = Dataset(\"/home/openkim/MACH2023/data/Si_training_set_4_configs\")"
   ]
  },
  {
   "cell_type": "markdown",
   "id": "3987c284",
   "metadata": {},
   "source": [
    "Provided default set of tested hyperparameters"
   ]
  },
  {
   "cell_type": "code",
   "execution_count": 3,
   "id": "2fe59744",
   "metadata": {
    "scrolled": true
   },
   "outputs": [
    {
     "data": {
      "text/plain": [
       "OrderedDict([('jmax', 4),\n",
       "             ('rfac0', 0.99363),\n",
       "             ('diagonalstyle', 3),\n",
       "             ('rmin0', 0),\n",
       "             ('switch_flag', 1),\n",
       "             ('bzero_flag', 0),\n",
       "             ('use_shared_array', False),\n",
       "             ('weights', None)])"
      ]
     },
     "execution_count": 3,
     "metadata": {},
     "output_type": "execute_result"
    }
   ],
   "source": [
    "hyperparameters = get_default_bispectrum()\n",
    "hyperparameters"
   ]
  },
  {
   "cell_type": "markdown",
   "id": "007aa7ea",
   "metadata": {},
   "source": [
    "### Lets define a simple NN model with descriptor based inputs\n",
    "The width of descriptor = `desc.width`"
   ]
  },
  {
   "cell_type": "code",
   "execution_count": 5,
   "id": "b0bdd3b2",
   "metadata": {},
   "outputs": [],
   "source": [
    "desc = Descriptor(species=[\"Si\"], cutoff=3.77, descriptor=\"Bispectrum\",hyperparameters=hyperparameters)\n",
    "model = Sequential(Linear(desc.width, 10), ReLU(), Linear(10, 10), Tanh(), Linear(10, 1))"
   ]
  },
  {
   "cell_type": "markdown",
   "id": "1a312f73",
   "metadata": {},
   "source": [
    "### Compute energy and forces\n",
    "In most ML application, gradients are computed using vector-Jacobian product\n",
    "i.e. for a neural network mapping the descriptor to energy, and a descriptor function mapping coordinates to descriptor we have:\n",
    "$$\n",
    " \\{\\mathbf{d}_i\\}  = f_{desc}(\\{\\mathbf{r}_i\\})\n",
    "$$\n",
    "$$\n",
    "E_i = f_{energy}({\\mathbf{d_i}})\n",
    "$$\n",
    "$$\n",
    "E = \\sum_iE_i\n",
    "$$\n",
    "then\n",
    "$$\n",
    "\\mathbf{F} = -\\nabla E = -\\sum_i\\sum_j \\frac{d E_i}{d\\mathbf{d}_i} \\times \\frac{d\\mathbf{d_i}}{d\\mathbf{r}_j}\n",
    "$$\n",
    "$$\n",
    " = \\sum_i \\frac{dE}{d\\mathbf{d}_i}\\times\\mathbf{J}_{f_{desc}}\n",
    "$$"
   ]
  },
  {
   "cell_type": "code",
   "execution_count": 6,
   "id": "5e2a1213",
   "metadata": {
    "scrolled": false
   },
   "outputs": [
    {
     "name": "stdout",
     "output_type": "stream",
     "text": [
      "[[ 0.10810825  0.03119557 -0.05810161]\n",
      " [-0.05567654 -0.02797805 -0.02375742]\n",
      " [ 0.04304471 -0.04291705 -0.08127616]\n",
      " [-0.07743129 -0.10008315 -0.04402768]\n",
      " [ 0.03399499  0.11126101 -0.01007131]\n",
      " [-0.07195698  0.0402178   0.07060787]\n",
      " [ 0.04735938 -0.13548004  0.07265382]\n",
      " [ 0.09475799  0.03421475  0.07488377]\n",
      " [ 0.00355193 -0.12042169 -0.05137739]\n",
      " [ 0.03396748  0.0457662   0.11728549]\n",
      " [ 0.00639155 -0.00796861  0.00355223]\n",
      " [-0.08806111  0.06182617 -0.12313624]\n",
      " [ 0.11873553 -0.01642035  0.07720148]\n",
      " [-0.0051028  -0.08482003 -0.0426131 ]\n",
      " [ 0.04038053  0.06247    -0.10272096]\n",
      " [ 0.02608551  0.09763462 -0.03330721]\n",
      " [ 0.1220361  -0.0908466  -0.05322691]\n",
      " [-0.05194974 -0.09735867 -0.10683447]\n",
      " [-0.09709146 -0.05918408  0.12742432]\n",
      " [ 0.06836982  0.06243279 -0.14641221]\n",
      " [ 0.11179643 -0.06626432  0.00436644]\n",
      " [ 0.11107769 -0.01523744  0.13168169]\n",
      " [ 0.01297764  0.06266213  0.00495013]\n",
      " [ 0.04997557  0.0395551   0.05625087]\n",
      " [-0.04394532  0.0452718  -0.102608  ]\n",
      " [ 0.03365871  0.0504526   0.03378564]\n",
      " [-0.14372687 -0.05503143 -0.09222081]\n",
      " [-0.20916884 -0.09597981 -0.00863536]\n",
      " [-0.00580171 -0.02524002  0.0762373 ]\n",
      " [-0.12378275 -0.11015376 -0.00279546]\n",
      " [ 0.10075503 -0.09634412  0.02170708]\n",
      " [ 0.13608708  0.17563865 -0.05755162]\n",
      " [ 0.02123139 -0.18437367  0.03498695]\n",
      " [-0.14649691 -0.02922478 -0.09673143]\n",
      " [ 0.03209659  0.02106344 -0.02359873]\n",
      " [-0.11397285 -0.02848661  0.07006106]\n",
      " [ 0.13270824  0.07617044  0.06713202]\n",
      " [ 0.11013939 -0.02935429  0.04149414]\n",
      " [-0.02412162  0.05889957  0.07965208]\n",
      " [-0.07895769  0.07750887 -0.04363227]\n",
      " [-0.05205282  0.17947985  0.06212846]\n",
      " [-0.04105588  0.04537768  0.16007106]\n",
      " [-0.07689279 -0.03889106  0.00747904]\n",
      " [ 0.00867857 -0.01471763 -0.01077164]\n",
      " [ 0.09082602 -0.04928567 -0.09701   ]\n",
      " [-0.13714705 -0.01056503  0.02711897]\n",
      " [-0.07982298  0.05151386  0.0928063 ]\n",
      " [-0.0492036  -0.05906402 -0.07755959]\n",
      " [ 0.02820413  0.04286444  0.08350845]\n",
      " [ 0.08565272 -0.05426135 -0.05914934]\n",
      " [-0.09955864 -0.02898888  0.12047959]\n",
      " [-0.1430667  -0.00309022  0.02357113]\n",
      " [ 0.06675781 -0.08272779 -0.03927973]\n",
      " [-0.08049251 -0.02460442 -0.00457396]\n",
      " [ 0.13289602  0.0937875  -0.03609391]\n",
      " [ 0.08546466  0.06266421  0.13139552]\n",
      " [-0.118983    0.01634829 -0.1448438 ]\n",
      " [ 0.1000542   0.14515455 -0.00251407]\n",
      " [ 0.03455478 -0.20439057 -0.0832712 ]\n",
      " [ 0.21967562 -0.1223788  -0.04855271]\n",
      " [-0.16904897  0.19000574  0.12159463]\n",
      " [-0.1155488   0.01293166 -0.08475296]\n",
      " [ 0.01700163  0.14521805  0.07120849]\n",
      " [ 0.03106458  0.07254667 -0.07426676]]\n"
     ]
    }
   ],
   "source": [
    "# get descriptor\n",
    "representation = torch.tensor(desc.forward(dataset[0]))\n",
    "representation.requires_grad_(True)\n",
    "\n",
    "# energy\n",
    "atomwise_energy = model(representation)\n",
    "total_energy = atomwise_energy.sum()\n",
    "\n",
    "# dE/d desc\n",
    "total_energy.backward()\n",
    "dE_ddesc = representation.grad.detach().numpy()\n",
    "\n",
    "# dE/dr = dE/d desc x J_Bispectrum\n",
    "forces = desc.backward(dataset[0], dE_ddesc)\n",
    "print(forces)"
   ]
  },
  {
   "cell_type": "markdown",
   "id": "075785a4",
   "metadata": {},
   "source": [
    "### Using TrainingWheels"
   ]
  },
  {
   "cell_type": "code",
   "execution_count": 8,
   "id": "3c375279",
   "metadata": {},
   "outputs": [],
   "source": [
    "model_tw = TrainingWheels.init_descriptor(model=model, cutoff=3.77, descriptor_kind=\"Bispectrum\", species=[\"Si\"], \n",
    "                               hyperparams=hyperparameters, model_returns_forces=False)"
   ]
  },
  {
   "cell_type": "code",
   "execution_count": 9,
   "id": "2ec3d681",
   "metadata": {
    "scrolled": true
   },
   "outputs": [
    {
     "data": {
      "text/plain": [
       "{'energy': tensor(-30.0164, grad_fn=<SumBackward0>),\n",
       " 'forces': tensor([[-0.1081, -0.0312,  0.0581],\n",
       "         [ 0.0557,  0.0280,  0.0238],\n",
       "         [-0.0430,  0.0429,  0.0813],\n",
       "         [ 0.0774,  0.1001,  0.0440],\n",
       "         [-0.0340, -0.1113,  0.0101],\n",
       "         [ 0.0720, -0.0402, -0.0706],\n",
       "         [-0.0474,  0.1355, -0.0727],\n",
       "         [-0.0948, -0.0342, -0.0749],\n",
       "         [-0.0036,  0.1204,  0.0514],\n",
       "         [-0.0340, -0.0458, -0.1173],\n",
       "         [-0.0064,  0.0080, -0.0036],\n",
       "         [ 0.0881, -0.0618,  0.1231],\n",
       "         [-0.1187,  0.0164, -0.0772],\n",
       "         [ 0.0051,  0.0848,  0.0426],\n",
       "         [-0.0404, -0.0625,  0.1027],\n",
       "         [-0.0261, -0.0976,  0.0333],\n",
       "         [-0.1220,  0.0908,  0.0532],\n",
       "         [ 0.0519,  0.0974,  0.1068],\n",
       "         [ 0.0971,  0.0592, -0.1274],\n",
       "         [-0.0684, -0.0624,  0.1464],\n",
       "         [-0.1118,  0.0663, -0.0044],\n",
       "         [-0.1111,  0.0152, -0.1317],\n",
       "         [-0.0130, -0.0627, -0.0050],\n",
       "         [-0.0500, -0.0396, -0.0563],\n",
       "         [ 0.0439, -0.0453,  0.1026],\n",
       "         [-0.0337, -0.0505, -0.0338],\n",
       "         [ 0.1437,  0.0550,  0.0922],\n",
       "         [ 0.2092,  0.0960,  0.0086],\n",
       "         [ 0.0058,  0.0252, -0.0762],\n",
       "         [ 0.1238,  0.1102,  0.0028],\n",
       "         [-0.1008,  0.0963, -0.0217],\n",
       "         [-0.1361, -0.1756,  0.0576],\n",
       "         [-0.0212,  0.1844, -0.0350],\n",
       "         [ 0.1465,  0.0292,  0.0967],\n",
       "         [-0.0321, -0.0211,  0.0236],\n",
       "         [ 0.1140,  0.0285, -0.0701],\n",
       "         [-0.1327, -0.0762, -0.0671],\n",
       "         [-0.1101,  0.0294, -0.0415],\n",
       "         [ 0.0241, -0.0589, -0.0797],\n",
       "         [ 0.0790, -0.0775,  0.0436],\n",
       "         [ 0.0521, -0.1795, -0.0621],\n",
       "         [ 0.0411, -0.0454, -0.1601],\n",
       "         [ 0.0769,  0.0389, -0.0075],\n",
       "         [-0.0087,  0.0147,  0.0108],\n",
       "         [-0.0908,  0.0493,  0.0970],\n",
       "         [ 0.1371,  0.0106, -0.0271],\n",
       "         [ 0.0798, -0.0515, -0.0928],\n",
       "         [ 0.0492,  0.0591,  0.0776],\n",
       "         [-0.0282, -0.0429, -0.0835],\n",
       "         [-0.0857,  0.0543,  0.0591],\n",
       "         [ 0.0996,  0.0290, -0.1205],\n",
       "         [ 0.1431,  0.0031, -0.0236],\n",
       "         [-0.0668,  0.0827,  0.0393],\n",
       "         [ 0.0805,  0.0246,  0.0046],\n",
       "         [-0.1329, -0.0938,  0.0361],\n",
       "         [-0.0855, -0.0627, -0.1314],\n",
       "         [ 0.1190, -0.0163,  0.1448],\n",
       "         [-0.1001, -0.1452,  0.0025],\n",
       "         [-0.0346,  0.2044,  0.0833],\n",
       "         [-0.2197,  0.1224,  0.0486],\n",
       "         [ 0.1690, -0.1900, -0.1216],\n",
       "         [ 0.1155, -0.0129,  0.0848],\n",
       "         [-0.0170, -0.1452, -0.0712],\n",
       "         [-0.0311, -0.0725,  0.0743]], grad_fn=<NegBackward0>),\n",
       " 'stress': None}"
      ]
     },
     "execution_count": 9,
     "metadata": {},
     "output_type": "execute_result"
    }
   ],
   "source": [
    "model_tw(dataset[0])"
   ]
  },
  {
   "cell_type": "markdown",
   "id": "aa3ec8ba",
   "metadata": {},
   "source": [
    "### Train model"
   ]
  },
  {
   "cell_type": "code",
   "execution_count": 10,
   "id": "6e49788a",
   "metadata": {},
   "outputs": [],
   "source": [
    "desc = Descriptor(species=[\"Si\"], cutoff=3.77, descriptor=\"SymmetryFunctions\",hyperparameters=get_set51())\n",
    "model = Sequential(Linear(desc.width, 10), ReLU(), Linear(10, 10), Tanh(), Linear(10, 1))\n",
    "model_tw = TrainingWheels.init_descriptor(model=model, cutoff=3.77, descriptor_kind=\"SymmetryFunctions\", species=[\"Si\"], \n",
    "                               hyperparams=get_set51(), model_returns_forces=False)"
   ]
  },
  {
   "cell_type": "code",
   "execution_count": 11,
   "id": "9b8d31c4",
   "metadata": {},
   "outputs": [],
   "source": [
    "optimizer = torch.optim.Adam(model.parameters(),lr=0.01)\n",
    "opt = OptimizerTorch(model_tw, dataset, optimizer=optimizer, epochs=5)"
   ]
  },
  {
   "cell_type": "code",
   "execution_count": 12,
   "id": "d58b2fb0",
   "metadata": {},
   "outputs": [
    {
     "name": "stderr",
     "output_type": "stream",
     "text": [
      "2023-04-06 14:56:00.799 | INFO     | kliff.ml.opt:minimize:295 - Starting with method Adam (\n",
      "Parameter Group 0\n",
      "    amsgrad: False\n",
      "    betas: (0.9, 0.999)\n",
      "    capturable: False\n",
      "    differentiable: False\n",
      "    eps: 1e-08\n",
      "    foreach: None\n",
      "    fused: False\n",
      "    lr: 0.01\n",
      "    maximize: False\n",
      "    weight_decay: 0\n",
      ")\n"
     ]
    }
   ],
   "source": [
    "_ = opt.minimize()"
   ]
  },
  {
   "cell_type": "code",
   "execution_count": 13,
   "id": "bd59c1a4",
   "metadata": {},
   "outputs": [],
   "source": [
    "model_tw.save_kim_model(\"ExampleModel\")"
   ]
  },
  {
   "cell_type": "code",
   "execution_count": null,
   "id": "99d212ca",
   "metadata": {},
   "outputs": [],
   "source": []
  }
 ],
 "metadata": {
  "kernelspec": {
   "display_name": "Python 3 (ipykernel)",
   "language": "python",
   "name": "python3"
  },
  "language_info": {
   "codemirror_mode": {
    "name": "ipython",
    "version": 3
   },
   "file_extension": ".py",
   "mimetype": "text/x-python",
   "name": "python",
   "nbconvert_exporter": "python",
   "pygments_lexer": "ipython3",
   "version": "3.8.10"
  }
 },
 "nbformat": 4,
 "nbformat_minor": 5
}
